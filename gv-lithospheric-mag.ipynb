{
 "cells": [
  {
   "cell_type": "code",
   "execution_count": null,
   "id": "334f6b74-cc07-441b-8dc3-57a1b633e77b",
   "metadata": {},
   "outputs": [],
   "source": [
    "import sys\n",
    "sys.path.append('/opt/anaconda3/envs/pygmt4/lib/python3.8/site-packages/')\n",
    "import pyshtools\n",
    "\n",
    "import geoviews as gv\n",
    "import geoviews.feature as gf\n",
    "import xarray as xr\n",
    "import cartopy.crs as ccrs\n",
    "\n",
    "gv.extension('bokeh')\n"
   ]
  },
  {
   "cell_type": "code",
   "execution_count": null,
   "id": "781be2d6-d5c5-4ee4-99b4-6cf8c333e432",
   "metadata": {},
   "outputs": [],
   "source": [
    "L19 = pyshtools.datasets.Mars.Langlais2019()\n",
    "\n",
    "mag = L19.expand(lmax=400)\n"
   ]
  },
  {
   "cell_type": "code",
   "execution_count": null,
   "id": "a5a8d4ee-7f02-415f-9af1-eec4aef7bde5",
   "metadata": {},
   "outputs": [],
   "source": [
    "image_radial = gv.Dataset(mag.rad.to_xarray(), ['lon', 'lat'], 'radial', crs=ccrs.PlateCarree()).redim.range(radial=(-2000,2000)).to(gv.Image)\n",
    "image_theta = gv.Dataset(mag.theta.to_xarray(), ['lon', 'lat'], 'theta', crs=ccrs.PlateCarree()).redim.range(theta=(-2000,2000)).to(gv.Image)\n",
    "image_phi = gv.Dataset(mag.phi.to_xarray(), ['lon', 'lat'], 'phi', crs=ccrs.PlateCarree()).redim.range(phi=(-2000,2000)).to(gv.Image)\n"
   ]
  },
  {
   "cell_type": "code",
   "execution_count": null,
   "id": "612e5de2-6d87-4767-acb9-d132e4e04fa7",
   "metadata": {},
   "outputs": [],
   "source": [
    "dim = 600\n",
    "central_longitude = 180.\n",
    "#projection=ccrs.Robinson(central_longitude=central_longitude)\n",
    "projection=ccrs.PlateCarree()\n",
    "\n",
    "((image_radial.opts(cmap='seismic', colorbar=True, width=dim*2, height=dim, projection=projection) * gf.coastline) +\\\n",
    "(image_theta.opts(cmap='seismic', colorbar=True, width=dim*2, height=dim, projection=projection) * gf.coastline) +\\\n",
    "(image_phi.opts(cmap='seismic', colorbar=True, width=dim*2, height=dim, projection=projection) * gf.coastline)).cols(2)\n"
   ]
  },
  {
   "cell_type": "code",
   "execution_count": null,
   "id": "801f616d-1c92-48de-948a-c39b67badb2d",
   "metadata": {},
   "outputs": [],
   "source": [
    "dim = 300\n",
    "central_longitude = 180.\n",
    "\n",
    "da = mag.rad.to_xarray()\n",
    "da.name = 'z'\n",
    "image_radial = gv.Dataset(mag.rad.to_xarray(), ['lon', 'lat'], 'z', crs=ccrs.PlateCarree()).redim.range(z=(-2000,2000)).to(gv.Image)\n",
    "\n",
    "image_radial.opts(cmap='seismic', colorbar=True, width=dim*2, height=dim, projection=ccrs.Robinson(central_longitude=central_longitude))\n",
    "                  "
   ]
  },
  {
   "cell_type": "code",
   "execution_count": null,
   "id": "935e8226-e24f-499e-a870-822f145051fe",
   "metadata": {},
   "outputs": [],
   "source": []
  }
 ],
 "metadata": {
  "interpreter": {
   "hash": "a0467f514ec50f461c09c6a035a51af5d34f31d6099d534383ec015d97d07d09"
  },
  "kernelspec": {
   "display_name": "Python 3",
   "language": "python",
   "name": "python3"
  },
  "language_info": {
   "codemirror_mode": {
    "name": "ipython",
    "version": 3
   },
   "file_extension": ".py",
   "mimetype": "text/x-python",
   "name": "python",
   "nbconvert_exporter": "python",
   "pygments_lexer": "ipython3",
   "version": "3.7.7"
  }
 },
 "nbformat": 4,
 "nbformat_minor": 5
}
