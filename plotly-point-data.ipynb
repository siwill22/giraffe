{
 "cells": [
  {
   "cell_type": "code",
   "execution_count": null,
   "metadata": {
    "collapsed": false,
    "jupyter": {
     "outputs_hidden": false
    }
   },
   "outputs": [],
   "source": [
    "import numpy as np\n",
    "import plotly.graph_objects as go\n",
    "\n",
    "lithdata = np.load('/Users/Simon/Work/BDKD/environments/sea_floor_lithology_map_docker/seafloorData_final.npz')\n",
    "\n"
   ]
  },
  {
   "cell_type": "code",
   "execution_count": null,
   "metadata": {
    "collapsed": false,
    "jupyter": {
     "outputs_hidden": false
    }
   },
   "outputs": [],
   "source": [
    "scl = [0,\"rgb(150,0,90)\"],[0.125,\"rgb(0, 0, 200)\"],[0.25,\"rgb(0, 25, 255)\"],\\\n",
    "[0.375,\"rgb(0, 152, 255)\"],[0.5,\"rgb(44, 255, 150)\"],[0.625,\"rgb(151, 255, 0)\"],\\\n",
    "[0.75,\"rgb(255, 234, 0)\"],[0.875,\"rgb(255, 111, 0)\"],[1,\"rgb(255, 0, 0)\"]\n",
    "\n",
    "data = [ dict(\n",
    "    lat = lithdata['lat'][:,0],\n",
    "    lon = lithdata['lon'][:,0],\n",
    "    text = lithdata['labels'][:,0],\n",
    "    marker = dict(\n",
    "            color = lithdata['labels'][:,0],\n",
    "            colorscale = scl,\n",
    "            cmin = 1,\n",
    "            cmax = 13,\n",
    "            opacity = 0.7,\n",
    "            size = 6,\n",
    "            colorbar = dict(\n",
    "                thickness = 30,\n",
    "                titleside = \"right\",\n",
    "                outlinecolor = \"rgba(68, 68, 68, 0)\",\n",
    "                dtick = 1\n",
    "            ),\n",
    "        ),\n",
    "        type = 'scattergeo'\n",
    "    ) ]\n",
    "\n",
    "layout = dict(\n",
    "    geo = dict(\n",
    "        showland = True,\n",
    "        landcolor = \"rgb(212, 212, 212)\",\n",
    "        showlakes = True,\n",
    "        lakecolor = \"rgb(255, 255, 255)\",\n",
    "        #resolution = 20,\n",
    "        projection = dict(\n",
    "            type = 'orthographic'\n",
    "        ),\n",
    "        lonaxis = dict(\n",
    "            showgrid = True,\n",
    "            gridwidth = 0.5,\n",
    "            dtick = 10\n",
    "        ),\n",
    "        lataxis = dict (\n",
    "            showgrid = True,\n",
    "            gridwidth = 0.5,\n",
    "            dtick = 10\n",
    "        )\n",
    "    ),\n",
    "    title = 'Seafloor Lithology',\n",
    "    autosize=False,\n",
    "    width=1000,\n",
    "    height=1000,\n",
    ")\n",
    "\n",
    "fig = go.Figure(data=data, layout=layout)\n",
    "fig.show()\n",
    "\n"
   ]
  },
  {
   "cell_type": "code",
   "execution_count": null,
   "metadata": {
    "tags": []
   },
   "outputs": [],
   "source": [
    "import plotly.express as px\n",
    "import geopandas as gpd\n",
    "\n",
    "# reading in the shapefile\n",
    "#fp = \"./data/\"\n",
    "#map_df = gpd.read_file('/Users/simon/GIT/mars/geology/SIM3292_Shapefiles/SIM3292_Global_Geology.shp')\n",
    "map_df = gpd.read_file('/Applications/GPlates_2.3.0/GeoData/FeatureCollections/ContinentalPolygons/Shapefile/Global_EarthByte_GPlates_PresentDay_ContinentalPolygons.shp')\n",
    "#map_df.to_crs(pyproj.CRS.from_epsg(4326), inplace=True)\n",
    "\n",
    "#df = pd.read_csv(\"./data/loans_amount.csv\")\n",
    "# join the geodataframe with the cleaned up csv dataframe\n",
    "#merged = map_df.set_index('District').join(df.set_index('District'))\n",
    "#merged = merged.reset_index()\n",
    "print(map_df.columns)\n",
    "\n",
    "fig = px.choropleth(map_df, \n",
    "                    geojson=map_df.geometry, \n",
    "                    locations=map_df.index, \n",
    "                    color=\"FROMAGE\",\n",
    "                    projection='orthographic',\n",
    "                    height=1000,\n",
    "                    width=1000)\n",
    "fig.update_geos(fitbounds=\"locations\", visible=True, showcoastlines=False, lataxis_showgrid=True, lonaxis_showgrid=True)\n",
    "\n",
    "fig.show()\n"
   ]
  },
  {
   "cell_type": "code",
   "execution_count": null,
   "metadata": {},
   "outputs": [],
   "source": []
  }
 ],
 "metadata": {
  "kernelspec": {
   "display_name": "Python [conda env:gv]",
   "language": "python",
   "name": "conda-env-gv-py"
  },
  "language_info": {
   "codemirror_mode": {
    "name": "ipython",
    "version": 3
   },
   "file_extension": ".py",
   "mimetype": "text/x-python",
   "name": "python",
   "nbconvert_exporter": "python",
   "pygments_lexer": "ipython3",
   "version": "3.8.12"
  }
 },
 "nbformat": 4,
 "nbformat_minor": 4
}
