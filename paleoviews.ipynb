{
 "cells": [
  {
   "cell_type": "code",
   "execution_count": null,
   "id": "2bea9aa3-9b6a-4074-bf77-3f5bed1bfaa5",
   "metadata": {},
   "outputs": [],
   "source": [
    "%load_ext autoreload\n",
    "%autoreload 2\n",
    "\n",
    "import geoviews as gv\n",
    "import geoviews.feature as gf\n",
    "import xarray as xr\n",
    "from cartopy import crs as ccrs\n",
    "\n",
    "import pygplates\n",
    "from gprm.utils.create_gpml import gpml2gdf\n",
    "from gprm.datasets import Reconstructions\n",
    "\n",
    "gv.extension('bokeh', 'matplotlib')\n",
    "\n"
   ]
  },
  {
   "cell_type": "code",
   "execution_count": null,
   "id": "1d1cc90f-0a9b-4c1e-9c52-b7b324244032",
   "metadata": {},
   "outputs": [],
   "source": [
    "M2021 = Reconstructions.fetch_Merdith2021()\n"
   ]
  },
  {
   "cell_type": "code",
   "execution_count": null,
   "id": "8fa74655-8eb2-4688-a2e8-032a1d7fa396",
   "metadata": {},
   "outputs": [],
   "source": [
    "Continents = M2021.polygon_snapshot('continents', 750)\n"
   ]
  },
  {
   "cell_type": "code",
   "execution_count": null,
   "id": "95a0049b-f9a5-4c0d-8d07-bd92f0303d19",
   "metadata": {},
   "outputs": [],
   "source": [
    "def wrap_features(features, central_longitude = 0., tesselation_degrees = 1.):\n",
    "\n",
    "    date_line_wrapper = pygplates.DateLineWrapper(central_meridian=central_longitude)\n",
    "\n",
    "    wrapped_features = []\n",
    "    for polygon in features:\n",
    "        geometry = polygon.get_reconstructed_geometry()\n",
    "        #for geometry in r.get_geometries():\n",
    "        split_polygons = date_line_wrapper.wrap(geometry, tesselation_degrees)\n",
    "        for split_polygon in split_polygons:\n",
    "            #print(split_polygon)\n",
    "            f = pygplates.Feature()\n",
    "            f.set_geometry(pygplates.PolygonOnSphere(\n",
    "                (wrapped_point.get_latitude(), wrapped_point.get_longitude()) for wrapped_point in split_polygon.get_exterior_points())\n",
    "                          )\n",
    "            f.set_name(polygon.get_feature().get_name())\n",
    "            f.set_reconstruction_plate_id(polygon.get_feature().get_reconstruction_plate_id())\n",
    "            f.set_valid_time(polygon.get_feature().get_valid_time()[0], polygon.get_feature().get_valid_time()[1])\n",
    "            wrapped_features.append(f)\n",
    "\n",
    "    return gpml2gdf(wrapped_features)\n"
   ]
  },
  {
   "cell_type": "code",
   "execution_count": null,
   "id": "a17c36c0-8306-4bd9-b497-efda63169a14",
   "metadata": {},
   "outputs": [],
   "source": [
    "dim = 300\n",
    "gv.Polygons(wrap_features(Continents.reconstructed_polygons), \n",
    "            vdims=['NAME', 'PLATEID1', 'FROMAGE']).opts(\n",
    "    tools=['hover'], height=dim, width=int(dim*1.9), projection=ccrs.Robinson(central_longitude=central_longitude), color_index='FROMAGE'\n",
    ")"
   ]
  },
  {
   "cell_type": "code",
   "execution_count": null,
   "id": "4ae658dd-dfa5-4307-8634-fb5d044acf7e",
   "metadata": {},
   "outputs": [],
   "source": []
  }
 ],
 "metadata": {
  "kernelspec": {
   "display_name": "Python [conda env:gv]",
   "language": "python",
   "name": "conda-env-gv-py"
  },
  "language_info": {
   "codemirror_mode": {
    "name": "ipython",
    "version": 3
   },
   "file_extension": ".py",
   "mimetype": "text/x-python",
   "name": "python",
   "nbconvert_exporter": "python",
   "pygments_lexer": "ipython3",
   "version": "3.8.12"
  }
 },
 "nbformat": 4,
 "nbformat_minor": 5
}
