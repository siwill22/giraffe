{
 "cells": [
  {
   "cell_type": "code",
   "execution_count": null,
   "id": "2bea9aa3-9b6a-4074-bf77-3f5bed1bfaa5",
   "metadata": {},
   "outputs": [],
   "source": [
    "%load_ext autoreload\n",
    "%autoreload 2\n",
    "\n",
    "import geoviews as gv\n",
    "import geoviews.feature as gf\n",
    "from cartopy import crs as ccrs\n",
    "\n",
    "import paleoviews as pv\n",
    "from gprm.datasets import Reconstructions\n",
    "\n",
    "gv.extension('bokeh', 'matplotlib')\n",
    "\n"
   ]
  },
  {
   "cell_type": "code",
   "execution_count": null,
   "id": "1d1cc90f-0a9b-4c1e-9c52-b7b324244032",
   "metadata": {},
   "outputs": [],
   "source": [
    "M2021 = Reconstructions.fetch_Merdith2021()\n"
   ]
  },
  {
   "cell_type": "code",
   "execution_count": null,
   "id": "8fa74655-8eb2-4688-a2e8-032a1d7fa396",
   "metadata": {},
   "outputs": [],
   "source": [
    "Continents = M2021.polygon_snapshot('continents', 250)\n"
   ]
  },
  {
   "cell_type": "code",
   "execution_count": null,
   "id": "a17c36c0-8306-4bd9-b497-efda63169a14",
   "metadata": {},
   "outputs": [],
   "source": [
    "dim = 300\n",
    "central_longitude = 0.\n",
    "\n",
    "gv.Polygons(pv.wrap_reconstructed_features(Continents.reconstructed_polygons, central_longitude=central_longitude), \n",
    "            vdims=['NAME', 'PLATEID1', 'FROMAGE']).opts(cmap='inferno_r',\n",
    "    tools=['hover'], height=dim, width=int(dim*1.9), projection=ccrs.Robinson(central_longitude=central_longitude), color_index='FROMAGE'\n",
    ")"
   ]
  },
  {
   "cell_type": "code",
   "execution_count": null,
   "id": "4ae658dd-dfa5-4307-8634-fb5d044acf7e",
   "metadata": {},
   "outputs": [],
   "source": [
    "Plates = M2021.plate_snapshot(250.)\n",
    "\n",
    "central_longitude = 90.\n",
    "\n",
    "features = [resolved_topology.get_resolved_feature() for resolved_topology in Plates.resolved_topologies]\n",
    "dim = 300\n",
    "gv.Polygons(pv.wrap_features(features), \n",
    "            vdims=['NAME', 'PLATEID1']).opts(\n",
    "    tools=['hover'], height=dim, width=int(dim*1.9), projection=ccrs.Robinson(central_longitude=central_longitude), fill_color='red'\n",
    ")"
   ]
  },
  {
   "cell_type": "code",
   "execution_count": null,
   "id": "b0af74e5-3f02-463c-bf13-6e534f3636ca",
   "metadata": {},
   "outputs": [],
   "source": [
    "Plates = M2021.plate_snapshot(150.)\n",
    "Continents = M2021.polygon_snapshot('continents', 150)\n",
    "features = [resolved_topology.get_resolved_feature() for resolved_topology in Plates.resolved_topologies]\n",
    "\n",
    "dim = 600\n",
    "central_longitude = 0.\n",
    "\n",
    "\n",
    "gv.Polygons(pv.wrap_features(features), \n",
    "            vdims=['NAME', 'PLATEID1']).opts(\n",
    "    height=dim, width=int(dim*1.9), projection=ccrs.Robinson(central_longitude=central_longitude), fill_color='red'\n",
    ") * gv.Polygons(pv.wrap_reconstructed_features(Continents.reconstructed_polygons, central_longitude=central_longitude), \n",
    "            vdims=['NAME', 'PLATEID1', 'FROMAGE']).opts(cmap='inferno_r',\n",
    "    tools=['hover'], height=dim, width=int(dim*1.9), projection=ccrs.Robinson(central_longitude=central_longitude), color_index='FROMAGE'\n",
    ")\n"
   ]
  },
  {
   "cell_type": "code",
   "execution_count": null,
   "id": "9d89837c-2d12-498b-8841-da2376f8ffda",
   "metadata": {},
   "outputs": [],
   "source": [
    "M2016 = Reconstructions.fetch_Muller2016()\n",
    "\n",
    "Plates = M2016.plate_snapshot(0.)\n",
    "\n",
    "central_longitude = 90.\n",
    "\n",
    "#features = [resolved_topology.get_resolved_feature() for resolved_topology in Plates.resolved_topological_sections]\n",
    "features = Plates.get_boundary_features()\n",
    "dim = 300\n",
    "gv.Path(pv.wrap_features(features), \n",
    "            vdims=['NAME', 'PLATEID1']).opts(\n",
    "    tools=['hover'], height=dim, width=int(dim*1.9), projection=ccrs.Robinson(central_longitude=central_longitude),\n",
    ")\n"
   ]
  },
  {
   "cell_type": "code",
   "execution_count": null,
   "id": "47167391-ceb8-46d2-b456-1b17e6bbd0fd",
   "metadata": {},
   "outputs": [],
   "source": [
    "import numpy as np\n",
    "\n",
    "Plates = M2016.plate_snapshot(0., anchor_plate_id=0)\n",
    "velocities = Plates.velocity_field()\n",
    "\n",
    "azimuths = np.radians(90.-np.degrees(+np.array(velocities.velocity_azimuth)))\n",
    "magnitudes = np.array(velocities.velocity_magnitude)\n",
    "\n",
    "vectorfield = gv.VectorField((velocities.longitude, velocities.latitude, \n",
    "                              azimuths,\n",
    "                              magnitudes*0.04))\n",
    "\n",
    "dim = 600\n",
    "gv.Polygons(pv.wrap_features([resolved_topology.get_resolved_feature() for resolved_topology in Plates.resolved_topologies]), \n",
    "            vdims=['NAME', 'PLATEID1']).opts(cmap='gray',\n",
    "    tools=['hover'], height=dim, width=int(dim*1.9), projection=ccrs.Robinson(),\n",
    ") * gf.coastline * vectorfield.opts(\n",
    "    magnitude='Magnitude', color='Magnitude', cmap='fire', width=900, height=500,\n",
    "    projection=ccrs.Robinson(), global_extent=True, normalize_lengths=False)\n"
   ]
  },
  {
   "cell_type": "code",
   "execution_count": null,
   "id": "f13ee070-c875-4ad5-a6e2-e08e1e6a0d3e",
   "metadata": {},
   "outputs": [],
   "source": [
    "#TODO platetree\n",
    "\n",
    "\n",
    "gv.help(gv.Points)"
   ]
  },
  {
   "cell_type": "code",
   "execution_count": null,
   "id": "1897346c-c6e6-47b3-88f2-b93e944acaf3",
   "metadata": {},
   "outputs": [],
   "source": [
    "from gprm.datasets import Rocks\n",
    "\n",
    "OD = Rocks.BaseMetalDeposits('PbZn-CD')\n",
    "\n"
   ]
  },
  {
   "cell_type": "code",
   "execution_count": null,
   "id": "96910502-d796-4a84-983b-a1d2ce423692",
   "metadata": {},
   "outputs": [],
   "source": [
    "reconstruction_time = 60.\n",
    "Plates = M2021.plate_snapshot(reconstruction_time)\n",
    "Continents = M2021.polygon_snapshot('continents', reconstruction_time)\n",
    "ODr = M2021.reconstruct(M2021.assign_plate_ids(OD), reconstruction_time)\n",
    "ODr.Longitude = ODr.geometry.x\n",
    "ODr.Latitude = ODr.geometry.y\n",
    "\n",
    "dim = 600\n",
    "\n",
    "gv.Polygons(pv.wrap_features([resolved_topology.get_resolved_feature() for resolved_topology in Plates.resolved_topologies]), vdims=['NAME', 'PLATEID1']).opts(\n",
    "    height=dim, width=int(dim*1.9), projection=ccrs.Robinson(), fill_color='red'\n",
    ") * gv.Polygons(pv.wrap_reconstructed_features(Continents.reconstructed_polygons), vdims=['NAME', 'PLATEID1', 'FROMAGE']).opts(\n",
    "    cmap='inferno_r', height=dim, width=int(dim*1.9), projection=ccrs.Robinson(), color_index='FROMAGE'\n",
    ") * gv.Points(ODr, vdims=['Deposit', 'Age Type']).opts(\n",
    "    tools=['hover'], height=dim, width=int(dim*1.9), projection=ccrs.Robinson(), color='red', size=5,\n",
    ")"
   ]
  },
  {
   "cell_type": "code",
   "execution_count": null,
   "id": "7600027b-85fb-43a3-a49d-03244ceaa668",
   "metadata": {},
   "outputs": [],
   "source": []
  }
 ],
 "metadata": {
  "kernelspec": {
   "display_name": "Python [conda env:gv]",
   "language": "python",
   "name": "conda-env-gv-py"
  },
  "language_info": {
   "codemirror_mode": {
    "name": "ipython",
    "version": 3
   },
   "file_extension": ".py",
   "mimetype": "text/x-python",
   "name": "python",
   "nbconvert_exporter": "python",
   "pygments_lexer": "ipython3",
   "version": "3.8.12"
  }
 },
 "nbformat": 4,
 "nbformat_minor": 5
}
