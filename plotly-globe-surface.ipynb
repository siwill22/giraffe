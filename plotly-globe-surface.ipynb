{
 "cells": [
  {
   "cell_type": "code",
   "execution_count": 1,
   "id": "def877ae-8cd1-46ca-b187-ff6106c1bc38",
   "metadata": {},
   "outputs": [],
   "source": [
    "import numpy as np\n",
    "import xarray as xr\n",
    "import plotly.graph_objects as go\n"
   ]
  },
  {
   "cell_type": "code",
   "execution_count": 2,
   "id": "58e9109c-2039-48b5-80c2-4a7928a488e4",
   "metadata": {},
   "outputs": [],
   "source": [
    "def mapping_map_to_sphere(lon, lat, radius=1):\n",
    "    # this function maps the points of coords (lon, lat) to points onto the sphere of radius radius\n",
    "    lon=np.array(lon, dtype=np.float64)\n",
    "    lat=np.array(lat, dtype=np.float64)\n",
    "    lon=np.radians(lon)\n",
    "    lat=np.radians(lat)\n",
    "    xs=radius*np.cos(lon)*np.cos(lat)\n",
    "    ys=radius*np.sin(lon)*np.cos(lat)\n",
    "    zs=radius*np.sin(lat)\n",
    "    return xs, ys, zs"
   ]
  },
  {
   "cell_type": "code",
   "execution_count": 3,
   "id": "68441ed7-627a-43d7-a4bc-c34ac9c37579",
   "metadata": {},
   "outputs": [],
   "source": [
    "# Import topography data\n",
    "# Select the area you want\n",
    "resolution = 0.8\n",
    "lon_area = [-180., 180.]\n",
    "lat_area = [-90., 90.]\n",
    "# Get mesh-shape topography data\n",
    "\n",
    "ds = xr.open_dataarray('/Users/simon/Data/GMTdata/hawaii2017/earth_relief_10m.grd')\n",
    "\n",
    "lon_topo, lat_topo = np.meshgrid(ds.lon.data, ds.lat.data)\n",
    "topo = ds.data*0.00001\n",
    "#lon_topo, lat_topo, topo = Etopo(lon_area, lat_area, resolution)"
   ]
  },
  {
   "cell_type": "code",
   "execution_count": 4,
   "id": "29d232d3-fe26-4e3f-b2ed-45a2b572a332",
   "metadata": {},
   "outputs": [],
   "source": [
    "xs, ys, zs = mapping_map_to_sphere(lon_topo.flatten(), lat_topo.flatten())\n"
   ]
  },
  {
   "cell_type": "code",
   "execution_count": 5,
   "id": "4450d3f0-458d-4b12-8074-4356bedee995",
   "metadata": {},
   "outputs": [],
   "source": [
    "Ctopo = [[0, 'rgb(0, 0, 70)'],[0.2, 'rgb(0,90,150)'], \n",
    "          [0.4, 'rgb(150,180,230)'], [0.5, 'rgb(210,230,250)'],\n",
    "          [0.50001, 'rgb(0,120,0)'], [0.57, 'rgb(220,180,130)'], \n",
    "          [0.65, 'rgb(120,100,0)'], [0.75, 'rgb(80,70,0)'], \n",
    "          [0.9, 'rgb(200,200,200)'], [1.0, 'rgb(255,255,255)']]\n",
    "cmin = -8000\n",
    "cmax = 8000"
   ]
  },
  {
   "cell_type": "code",
   "execution_count": 6,
   "id": "6115eeed-234c-4fac-864a-b6a1657d9054",
   "metadata": {},
   "outputs": [],
   "source": [
    "topo_sphere=dict(type='surface',\n",
    "  x=xs,\n",
    "  y=ys,\n",
    "  z=zs,\n",
    "  colorscale=Ctopo,\n",
    "  surfacecolor=topo,\n",
    "  cmin=cmin,\n",
    "  cmax=cmax)"
   ]
  },
  {
   "cell_type": "code",
   "execution_count": 7,
   "id": "0f398f75-c70b-438c-a61b-959a9f6c011b",
   "metadata": {},
   "outputs": [],
   "source": [
    "noaxis=dict(showbackground=False,\n",
    "  showgrid=False,\n",
    "  showline=False,\n",
    "  showticklabels=False,\n",
    "  ticks='',\n",
    "  title='',\n",
    "  zeroline=False)"
   ]
  },
  {
   "cell_type": "code",
   "execution_count": 8,
   "id": "168df4f6-e1a5-45d0-9e0f-4dcbe3dfc891",
   "metadata": {},
   "outputs": [],
   "source": [
    "titlecolor = 'white'\n",
    "bgcolor = 'black'\n",
    "\n",
    "layout = go.Layout(\n",
    "  autosize=False, width=1200, height=800,\n",
    "  title = '3D spherical topography map',\n",
    "  titlefont = dict(family='Courier New', color=titlecolor),\n",
    "  showlegend = False,\n",
    "  scene = dict(\n",
    "    xaxis = noaxis,\n",
    "    yaxis = noaxis,\n",
    "    zaxis = noaxis,\n",
    "    aspectmode='manual',\n",
    "    aspectratio=go.layout.scene.Aspectratio(\n",
    "      x=1, y=1, z=1)),\n",
    "  paper_bgcolor = bgcolor,\n",
    "  plot_bgcolor = bgcolor)"
   ]
  },
  {
   "cell_type": "code",
   "execution_count": null,
   "id": "b94306a9-47c3-437b-84a4-b71415fcf23f",
   "metadata": {},
   "outputs": [],
   "source": [
    "def spheres(): \n",
    "    \n",
    "    # Set up 100 points. First, do angles\n",
    "    theta = np.linspace(0,2*np.pi,100)\n",
    "    phi = np.linspace(0,np.pi,100)\n",
    "    \n",
    "    # Set up coordinates for points on the sphere\n",
    "    x0 = xs.reshape(topo.shape) # dist + size * np.outer(np.cos(theta),np.sin(phi))\n",
    "    y0 = ys.reshape(topo.shape) # size * np.outer(np.sin(theta),np.sin(phi))\n",
    "    z0 = zs.reshape(topo.shape) # size * np.outer(np.ones(100),np.cos(phi))\n",
    "    c0 = topo\n",
    "    \n",
    "    #print(x0.shape, c0.shape)\n",
    "    \n",
    "    # Set up trace\n",
    "    trace = go.Surface(x=x0, y=y0, z=z0, \n",
    "                       surfacecolor=topo, \n",
    "                       colorscale='viridis')\n",
    "    trace.update(showscale=False)\n",
    "\n",
    "    return trace\n",
    "\n",
    "trace0=spheres() # Sun\n",
    "\n",
    "\n",
    "layout=go.Layout(title = 'Earth', \n",
    "                 showlegend=False, \n",
    "                 autosize=False,\n",
    "                 height=1000,\n",
    "                 width=1200,\n",
    "                 margin=dict(l=0, r=0, t=0, b=0),\n",
    "                  #paper_bgcolor = 'black',\n",
    "                  scene = dict(xaxis=dict(range=[-1,1], \n",
    "                                          #backgroundcolor='black',\n",
    "                                          color='black',\n",
    "                                          gridcolor='black'),\n",
    "                               yaxis=dict(range=[-1,1],\n",
    "                                          #backgroundcolor='black',\n",
    "                                          color='black',\n",
    "                                          gridcolor='black'\n",
    "                                          ),\n",
    "                               zaxis=dict(range=[-1,1],\n",
    "                                          #backgroundcolor='black',\n",
    "                                          color='white', \n",
    "                                          gridcolor='black'\n",
    "                                         ),\n",
    "                               ))\n",
    "\n",
    "fig = go.Figure(data = [trace0], layout = layout)\n",
    "\n",
    "fig.show()\n"
   ]
  },
  {
   "cell_type": "code",
   "execution_count": null,
   "id": "3b461ae7-7c36-4f35-b891-8cb912efb84b",
   "metadata": {},
   "outputs": [],
   "source": []
  }
 ],
 "metadata": {
  "kernelspec": {
   "display_name": "Python [conda env:gv]",
   "language": "python",
   "name": "conda-env-gv-py"
  },
  "language_info": {
   "codemirror_mode": {
    "name": "ipython",
    "version": 3
   },
   "file_extension": ".py",
   "mimetype": "text/x-python",
   "name": "python",
   "nbconvert_exporter": "python",
   "pygments_lexer": "ipython3",
   "version": "3.8.12"
  }
 },
 "nbformat": 4,
 "nbformat_minor": 5
}
