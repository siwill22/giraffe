{
 "cells": [
  {
   "cell_type": "code",
   "execution_count": null,
   "id": "dcae7831-11ea-4d15-ab0f-e088100f9825",
   "metadata": {},
   "outputs": [],
   "source": [
    "%load_ext autoreload\n",
    "%autoreload 2\n",
    "\n",
    "import geoviews as gv\n",
    "import geoviews.feature as gf\n",
    "from cartopy import crs as ccrs\n",
    "\n",
    "import pandas as pd\n",
    "import xarray as xr\n",
    "import paleoviews as pv\n",
    "from gprm.datasets import Paleogeography\n",
    "#from gprm.datasets import Reconstructions\n",
    "\n",
    "gv.extension('bokeh', 'matplotlib')\n",
    "\n",
    "\n",
    "ScoteseMaps = Paleogeography.fetch_Paleomap(resolution='01d')\n",
    "\n",
    "da = xr.open_dataarray(ScoteseMaps[30])\n",
    "\n",
    "da\n"
   ]
  },
  {
   "cell_type": "code",
   "execution_count": null,
   "id": "f8ca0c11-0fe3-4d88-906e-f83c46187ae9",
   "metadata": {},
   "outputs": [],
   "source": [
    "clim=(-6000,6000)\n",
    "dim = 300\n",
    "im = gv.Dataset(xr.open_dataarray(ScoteseMaps[350.]), ['longitude', 'latitude'], 'z', crs=ccrs.PlateCarree()).redim.range(z=clim).to(gv.Image)\n",
    "\n",
    "im.opts(cmap=mymap, colorbar=True, width=dim*2, height=dim, projection=ccrs.Robinson())"
   ]
  },
  {
   "cell_type": "code",
   "execution_count": null,
   "id": "23272b67-e966-47d5-b273-166073560313",
   "metadata": {},
   "outputs": [],
   "source": [
    "age_list = list(ScoteseMaps.keys())\n",
    "\n",
    "da_list = [xr.open_dataarray(ScoteseMaps[age]) for age in age_list]\n",
    "\n",
    "#da_list"
   ]
  },
  {
   "cell_type": "code",
   "execution_count": null,
   "id": "c6630a49-4eea-4455-88c8-c579169aa1c7",
   "metadata": {},
   "outputs": [],
   "source": [
    "da_time = xr.concat(da_list, pd.Index(age_list, name='time'))\n",
    "\n",
    "da_time"
   ]
  },
  {
   "cell_type": "code",
   "execution_count": null,
   "id": "af562533-a387-426e-b091-738a3bbc33cc",
   "metadata": {},
   "outputs": [],
   "source": [
    "clim=(-6000,6000)\n",
    "xr_dataset = gv.Dataset(da_time, kdims=['time','longitude','latitude'], vdims=['z']).redim.range(z=clim)\n"
   ]
  },
  {
   "cell_type": "code",
   "execution_count": null,
   "id": "79981fd5-562c-409f-b614-34e1cde0d308",
   "metadata": {},
   "outputs": [],
   "source": [
    "dim=400\n",
    "\n",
    "xr_dataset.to(gv.Image, ['longitude', 'latitude']).opts(cmap=mymap, width=int(dim*1.9), height=dim, projection=ccrs.Robinson())\n"
   ]
  },
  {
   "cell_type": "code",
   "execution_count": null,
   "id": "6c8473b6-3d80-4708-83fd-805804dd71a7",
   "metadata": {},
   "outputs": [],
   "source": [
    "import numpy as np\n",
    "import matplotlib.pyplot as plt\n",
    "import matplotlib.colors as mcolors\n",
    "\n",
    "# sample the colormaps that you want to use. Use 128 from each so we get 256\n",
    "# colors in total\n",
    "colors1 = plt.cm.Blues_r(np.linspace(0., 1, 128))\n",
    "colors2 = plt.cm.terrain(np.linspace(0.3, 1, 128))\n",
    "\n",
    "# combine them and build a new colormap\n",
    "colors = np.vstack((colors1, colors2))\n",
    "mymap = mcolors.LinearSegmentedColormap.from_list('my_colormap', colors)\n"
   ]
  },
  {
   "cell_type": "code",
   "execution_count": null,
   "id": "e35ddc22-8e77-4c5b-90b6-2eb10f17e678",
   "metadata": {},
   "outputs": [],
   "source": []
  }
 ],
 "metadata": {
  "kernelspec": {
   "display_name": "Python [conda env:gv]",
   "language": "python",
   "name": "conda-env-gv-py"
  },
  "language_info": {
   "codemirror_mode": {
    "name": "ipython",
    "version": 3
   },
   "file_extension": ".py",
   "mimetype": "text/x-python",
   "name": "python",
   "nbconvert_exporter": "python",
   "pygments_lexer": "ipython3",
   "version": "3.8.12"
  }
 },
 "nbformat": 4,
 "nbformat_minor": 5
}
